{
 "cells": [
  {
   "cell_type": "code",
   "execution_count": 1,
   "metadata": {},
   "outputs": [],
   "source": [
    "i = 1 # initial condition"
   ]
  },
  {
   "cell_type": "code",
   "execution_count": 2,
   "metadata": {},
   "outputs": [
    {
     "name": "stdout",
     "output_type": "stream",
     "text": [
      "BCD\n",
      "BCD\n",
      "BCD\n",
      "BCD\n",
      "BCD\n"
     ]
    }
   ],
   "source": [
    "while i <= 5:\n",
    "    print(\"BCD\")\n",
    "    i += 1 # i = i + 1"
   ]
  },
  {
   "cell_type": "code",
   "execution_count": 3,
   "metadata": {},
   "outputs": [],
   "source": [
    "i = 1"
   ]
  },
  {
   "cell_type": "code",
   "execution_count": 4,
   "metadata": {},
   "outputs": [
    {
     "name": "stdout",
     "output_type": "stream",
     "text": [
      "BCD\n",
      "BCD\n",
      "BCD\n",
      "BCD\n"
     ]
    }
   ],
   "source": [
    "while i < 5:\n",
    "    print(\"BCD\")\n",
    "    i += 1 # i = i + 1"
   ]
  },
  {
   "cell_type": "code",
   "execution_count": null,
   "metadata": {},
   "outputs": [],
   "source": [
    "# Infinite loop\n",
    "\n",
    "while True:\n",
    "    print(\"Hello\")"
   ]
  },
  {
   "cell_type": "code",
   "execution_count": 6,
   "metadata": {},
   "outputs": [],
   "source": [
    "while False: # always false condition\n",
    "    print(\"This will not be executed\")"
   ]
  },
  {
   "cell_type": "code",
   "execution_count": 7,
   "metadata": {},
   "outputs": [],
   "source": [
    "while 0: # always false condition\n",
    "    print(\"This code will not be executed\")"
   ]
  },
  {
   "cell_type": "code",
   "execution_count": 1,
   "metadata": {},
   "outputs": [
    {
     "name": "stdout",
     "output_type": "stream",
     "text": [
      "1 2 3 4 5 \n",
      "Loop terminated\n"
     ]
    }
   ],
   "source": [
    "loop_counter = 1\n",
    "while loop_counter <= 5:\n",
    "    print(loop_counter, end=\" \")\n",
    "    loop_counter += 1\n",
    "else: # when the loop ends, this block will be executed\n",
    "    print() # new line\n",
    "    print(\"Loop terminated\")"
   ]
  }
 ],
 "metadata": {
  "kernelspec": {
   "display_name": "Python 3",
   "language": "python",
   "name": "python3"
  },
  "language_info": {
   "codemirror_mode": {
    "name": "ipython",
    "version": 3
   },
   "file_extension": ".py",
   "mimetype": "text/x-python",
   "name": "python",
   "nbconvert_exporter": "python",
   "pygments_lexer": "ipython3",
   "version": "3.11.4"
  },
  "orig_nbformat": 4
 },
 "nbformat": 4,
 "nbformat_minor": 2
}
